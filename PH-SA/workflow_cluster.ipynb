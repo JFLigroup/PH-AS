{
 "cells": [
  {
   "cell_type": "code",
   "execution_count": null,
   "metadata": {},
   "outputs": [],
   "source": [
    "from phsa.adsorption_sites import ClusterAdsorptionSitesFinder\n",
    "from ase.io import read\n",
    "\n",
    "filename = ''\n",
    "atoms = read(filename)\n",
    "atoms.pbc = False\n",
    "cas = ClusterAdsorptionSitesFinder(atoms=atoms)\n",
    "surface_sites = cas.get_surface_sites()\n",
    "print(\"surf_sites:\",len(surface_sites))\n",
    "inside_sites = cas.get_inside_sites()\n",
    "print(\"inside_sites:\",len(inside_sites))\n",
    "sites = cas.get_sites()\n",
    "print(\"sites:\",sites)"
   ]
  },
  {
   "cell_type": "code",
   "execution_count": 15,
   "metadata": {},
   "outputs": [],
   "source": [
    "from ase import Atoms\n",
    "from phsa.utils import select_points,get_graph,is_unique\n",
    "from tqdm import trange\n",
    "num_ad = 2\n",
    "num_configuration = 3\n",
    "symbol = 'O'\n",
    "configurations = []\n",
    "unique_graphs = []\n",
    "unique_num = 0\n",
    "while unique_num < num_configuration:\n",
    "    structure = atoms.copy()\n",
    "    points = select_points(cell=atoms.cell,points=sites,num_points= num_ad,min_distance=1.,pbc=atoms.pbc)\n",
    "    for p in points:\n",
    "        ad = Atoms(symbols=symbol,positions=[p['position']])\n",
    "        structure += ad\n",
    "    graph = get_graph(structure)\n",
    "    if is_unique(graph,unique_graphs) == True:\n",
    "        unique_graphs.append(graph)\n",
    "        configurations.append(structure)\n",
    "        unique_num += 1"
   ]
  }
 ],
 "metadata": {
  "kernelspec": {
   "display_name": "tensorflow2",
   "language": "python",
   "name": "python3"
  },
  "language_info": {
   "codemirror_mode": {
    "name": "ipython",
    "version": 3
   },
   "file_extension": ".py",
   "mimetype": "text/x-python",
   "name": "python",
   "nbconvert_exporter": "python",
   "pygments_lexer": "ipython3",
   "version": "3.8.13"
  },
  "orig_nbformat": 4,
  "vscode": {
   "interpreter": {
    "hash": "b60bf3c9e991e92ee8c047e07307524c19190819c3bd0bb0eaed9d66c4ed6216"
   }
  }
 },
 "nbformat": 4,
 "nbformat_minor": 2
}
