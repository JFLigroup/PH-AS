{
 "cells": [
  {
   "cell_type": "code",
   "execution_count": null,
   "metadata": {},
   "outputs": [],
   "source": [
    "from methods.cluster_topo import inside_topo,surf_topo\n",
    "from ase.io import read\n",
    "filename = './examples/tetrahedron.vasp'\n",
    "atoms = read(filename)\n",
    "inside_sites = inside_topo(atoms,bond_len=1.6)\n",
    "print(\"inside_sites:\",len(inside_sites))\n",
    "surf_sites = surf_topo(atoms,bond_len=1.6)\n",
    "print(\"surf_sites:\",len(surf_sites))"
   ]
  },
  {
   "cell_type": "code",
   "execution_count": 9,
   "metadata": {},
   "outputs": [],
   "source": [
    "import random\n",
    "import numpy as np\n",
    "def calculate_distance(point1, point2):\n",
    "    return np.linalg.norm(point1-point2)\n",
    "\n",
    "def select_points(points, num_points, min_distance):\n",
    "    selected_points = []\n",
    "    \n",
    "    while len(selected_points) < num_points:\n",
    "        point = random.choice(points)\n",
    "        if all(calculate_distance(point, selected_point) >= min_distance for selected_point in selected_points):\n",
    "            selected_points.append(point)\n",
    "    \n",
    "    return selected_points"
   ]
  },
  {
   "cell_type": "code",
   "execution_count": 8,
   "metadata": {},
   "outputs": [],
   "source": [
    "from networkx.algorithms import isomorphism\n",
    "from ase.neighborlist import natural_cutoffs, NeighborList\n",
    "import networkx as nx\n",
    "def is_unique(graph,unique_graphs):\n",
    "    if unique_graphs==[]:\n",
    "         return True\n",
    "    for i,unique_graph in enumerate(unique_graphs):\n",
    "        GM = isomorphism.GraphMatcher(graph, unique_graph, node_match=isomorphism.categorical_node_match('symbol', ''))\n",
    "        if GM.is_isomorphic():\n",
    "            return False\n",
    "    return True\n",
    "\n",
    "def get_graph(atoms):\n",
    "    cutoffs = natural_cutoffs(atoms,mult=1.15)\n",
    "    nl = NeighborList(cutoffs, self_interaction=False, bothways=True)\n",
    "    nl.update(atoms)\n",
    "    matrix = nl.get_connectivity_matrix(sparse=False)\n",
    "    G = nx.Graph()\n",
    "    symbols = atoms.symbols                               \n",
    "    G.add_nodes_from([(i, {'symbol': symbols[i]}) \n",
    "                          for i in range(len(symbols))])\n",
    "    rows, cols = np.where(matrix == 1)\n",
    "    edges = zip(rows.tolist(), cols.tolist())\n",
    "    G.add_edges_from(edges)\n",
    "    graph = wl(G)\n",
    "    return graph\n",
    "\n",
    "def wl(graph):\n",
    "        node_symbols = nx.get_node_attributes(graph, 'symbol')\n",
    "        num_iterations = 3\n",
    "        for _ in range(num_iterations):\n",
    "            new_symbols = {}\n",
    "            for node in graph.nodes():\n",
    "                symbol = node_symbols[node]\n",
    "                neighbor_symbols = [node_symbols[neighbor] for neighbor in graph.neighbors(node)]\n",
    "                combined_symbol = symbol + ''.join(sorted(neighbor_symbols))\n",
    "                new_symbols[node] = combined_symbol\n",
    "            node_symbols = new_symbols\n",
    "\n",
    "        new_graph = nx.Graph()\n",
    "        for node, symbol in node_symbols.items():\n",
    "            new_graph.add_node(node, symbol=symbol)\n",
    "\n",
    "        return new_graph"
   ]
  },
  {
   "cell_type": "code",
   "execution_count": null,
   "metadata": {},
   "outputs": [],
   "source": [
    "from ase import Atoms\n",
    "sites = inside_sites + surf_sites\n",
    "num_ad = 3\n",
    "num_configuration = 10\n",
    "symbol = 'H'\n",
    "configurations = []\n",
    "unique_graphs = []\n",
    "for i in range(num_configuration):\n",
    "    structure = atoms.copy()\n",
    "    points = select_points(sites,num_ad,1.5)\n",
    "    for p in points:\n",
    "        ad = Atoms(symbols=symbol,positions=[p])\n",
    "        structure += ad\n",
    "    graph = get_graph(structure)\n",
    "    if is_unique(graph,unique_graphs) == True:\n",
    "        unique_graphs.append(graph)\n",
    "    configurations.append(structure)\n",
    "print(configurations)"
   ]
  }
 ],
 "metadata": {
  "kernelspec": {
   "display_name": "tensorflow2",
   "language": "python",
   "name": "python3"
  },
  "language_info": {
   "codemirror_mode": {
    "name": "ipython",
    "version": 3
   },
   "file_extension": ".py",
   "mimetype": "text/x-python",
   "name": "python",
   "nbconvert_exporter": "python",
   "pygments_lexer": "ipython3",
   "version": "3.8.13"
  },
  "orig_nbformat": 4,
  "vscode": {
   "interpreter": {
    "hash": "b60bf3c9e991e92ee8c047e07307524c19190819c3bd0bb0eaed9d66c4ed6216"
   }
  }
 },
 "nbformat": 4,
 "nbformat_minor": 2
}
