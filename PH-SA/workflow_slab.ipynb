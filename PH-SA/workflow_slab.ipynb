{
 "cells": [
  {
   "cell_type": "code",
   "execution_count": 1,
   "metadata": {},
   "outputs": [],
   "source": [
    "from phsa.adsorption_sites import SlabAdsorptionsSitesFinder\n",
    "from ase.io import read\n",
    "filename = ''\n",
    "atoms = read(filename)\n",
    "sas = SlabAdsorptionsSitesFinder(atoms)\n",
    "\n",
    "surface_sites = sas.get_surface_sites()\n",
    "print(\"surface_sites:\",surface_sites)\n",
    "inside_sites = sas.get_inside_sites()\n",
    "print(\"inside_sites:\",len(inside_sites))\n",
    "sites = sas.get_sites()\n",
    "print(\"sites:\",len(sites))\n"
   ]
  },
  {
   "cell_type": "code",
   "execution_count": null,
   "metadata": {},
   "outputs": [],
   "source": [
    "from ase import Atoms\n",
    "from phsa.utils import select_points,get_graph,is_unique\n",
    "num_ad = 3\n",
    "num_configuration = 10\n",
    "symbol = 'H'\n",
    "configurations = []\n",
    "unique_graphs = []\n",
    "for i in range(num_configuration):\n",
    "    structure = atoms.copy()\n",
    "    points = select_points(points=surface_sites,num_points=num_ad,min_distance=1.5,cell=structure.cell,pbc=structure.pbc)\n",
    "    print(1)\n",
    "    for p in points:\n",
    "        ad = Atoms(symbols=symbol,positions=[p['position']])\n",
    "        structure += ad\n",
    "    graph = get_graph(structure)\n",
    "    if is_unique(graph,unique_graphs) == True:\n",
    "        unique_graphs.append(graph)\n",
    "        configurations.append(structure)\n"
   ]
  }
 ],
 "metadata": {
  "kernelspec": {
   "display_name": "tensorflow2",
   "language": "python",
   "name": "python3"
  },
  "language_info": {
   "codemirror_mode": {
    "name": "ipython",
    "version": 3
   },
   "file_extension": ".py",
   "mimetype": "text/x-python",
   "name": "python",
   "nbconvert_exporter": "python",
   "pygments_lexer": "ipython3",
   "version": "3.8.13"
  },
  "orig_nbformat": 4,
  "vscode": {
   "interpreter": {
    "hash": "b60bf3c9e991e92ee8c047e07307524c19190819c3bd0bb0eaed9d66c4ed6216"
   }
  }
 },
 "nbformat": 4,
 "nbformat_minor": 2
}
