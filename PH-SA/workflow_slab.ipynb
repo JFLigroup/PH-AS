{
 "cells": [
  {
   "cell_type": "code",
   "execution_count": null,
   "metadata": {},
   "outputs": [],
   "source": [
    "from methods.slab_topo import inside_topo,surface_topo\n",
    "from ase.io import read\n",
    "filename = ''\n",
    "atoms = read(filename)\n",
    "inside_sites = inside_topo(atoms,bond_len=1.65)\n",
    "print(\"inside_sites:\",len(inside_sites))\n",
    "surface_sites = surface_topo(atoms,bond_len=1.65,both_surface=True)\n",
    "print(\"surface_sites:\",len(surface_sites))\n"
   ]
  },
  {
   "cell_type": "code",
   "execution_count": 26,
   "metadata": {},
   "outputs": [],
   "source": [
    "import random\n",
    "import numpy as np \n",
    "def calculate_distance(cell,point1, point2):\n",
    "    #Calculated distance methods for dealing with periodicity\n",
    "    a_vec = cell[0]\n",
    "    b_vec = cell[1]\n",
    "    dis = 10.\n",
    "    neighbors = []\n",
    "    for da in range(-1,2):\n",
    "        for db in range(-1,2):\n",
    "            neighbor_position = point1 + da * a_vec + db * b_vec\n",
    "            neighbors.append(neighbor_position)\n",
    "    for n in neighbors:\n",
    "        if dis > np.linalg.norm(n-point2):\n",
    "            dis = np.linalg.norm(n-point2)\n",
    "    return dis\n",
    "\n",
    "def select_points(points, num_points, min_distance,cell):\n",
    "    selected_points = []\n",
    "    \n",
    "    while len(selected_points) < num_points:\n",
    "        point = random.choice(points)\n",
    "        if all(calculate_distance(cell,point, selected_point) >= min_distance for selected_point in selected_points):\n",
    "            selected_points.append(point)\n",
    "    return selected_points"
   ]
  },
  {
   "cell_type": "code",
   "execution_count": null,
   "metadata": {},
   "outputs": [],
   "source": [
    "from ase.neighborlist import natural_cutoffs, NeighborList\n",
    "import networkx as nx\n",
    "def get_graph(atoms):\n",
    "    #Get Periodicity Graph\n",
    "    cutoffs = natural_cutoffs(atoms)\n",
    "    positions = atoms.get_positions()\n",
    "    cell = atoms.get_cell()\n",
    "    G = nx.Graph()\n",
    "    symbols = atoms.symbols                               \n",
    "    G.add_nodes_from([(i, {'symbol': symbols[i]}) \n",
    "                          for i in range(len(symbols))])\n",
    "    for i in range(len(positions)):\n",
    "        for j in range(i + 1, len(positions)):\n",
    "            distance = calculate_distance(cell,positions[i],positions[j])\n",
    "            if distance < cutoffs[i]+cutoffs[j]:\n",
    "                G.add_edge(i, j)\n",
    "    return G"
   ]
  }
 ],
 "metadata": {
  "kernelspec": {
   "display_name": "tensorflow2",
   "language": "python",
   "name": "python3"
  },
  "language_info": {
   "codemirror_mode": {
    "name": "ipython",
    "version": 3
   },
   "file_extension": ".py",
   "mimetype": "text/x-python",
   "name": "python",
   "nbconvert_exporter": "python",
   "pygments_lexer": "ipython3",
   "version": "3.8.13"
  },
  "orig_nbformat": 4,
  "vscode": {
   "interpreter": {
    "hash": "b60bf3c9e991e92ee8c047e07307524c19190819c3bd0bb0eaed9d66c4ed6216"
   }
  }
 },
 "nbformat": 4,
 "nbformat_minor": 2
}
